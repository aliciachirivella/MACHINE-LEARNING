{
  "cells": [
    {
      "cell_type": "markdown",
      "metadata": {
        "id": "oQLHhhokMz7V"
      },
      "source": [
        "PREPARAR MODELO\n"
      ]
    },
    {
      "cell_type": "code",
      "execution_count": 6,
      "metadata": {
        "id": "57Fi7g1zMz7W"
      },
      "outputs": [],
      "source": [
        "import pandas as pd\n",
        "import numpy as np\n",
        "from sklearn.model_selection import train_test_split, cross_val_score\n",
        "from sklearn.ensemble import RandomForestClassifier, RandomForestRegressor\n",
        "from sklearn.linear_model import LinearRegression\n",
        "from xgboost import XGBRegressor\n",
        "from sklearn.metrics import accuracy_score\n",
        "from sklearn.preprocessing import OneHotEncoder"
      ]
    },
    {
      "cell_type": "code",
      "execution_count": 7,
      "metadata": {
        "id": "c_MQvlgEPLFQ"
      },
      "outputs": [
        {
          "name": "stdout",
          "output_type": "stream",
          "text": [
            "       Fecha  año  trimestre  Mes Zona Geográfica    País  Unidades  Precio  \\\n",
            "0 2021-01-14   21          1    1          ESPAÑA  ESPAÑA      60.0   11.91   \n",
            "1 2021-03-08   21          1    3          ESPAÑA  ESPAÑA     225.0   12.27   \n",
            "2 2021-04-26   21          2    4          ESPAÑA  ESPAÑA     335.0   11.91   \n",
            "3 2021-04-26   21          2    4          ESPAÑA  ESPAÑA      36.0   23.07   \n",
            "4 2021-04-26   21          2    4          ESPAÑA  ESPAÑA       9.0   23.76   \n",
            "\n",
            "  Categorias Precio  Total Ventas  \\\n",
            "0             Medio        714.60   \n",
            "1             Medio       2760.75   \n",
            "2             Medio       3989.85   \n",
            "3              Alto        830.52   \n",
            "4              Alto        213.84   \n",
            "\n",
            "                                         Descripción  \n",
            "0   ML.DECK 150 ALVEOLAR CHROMATIC MOKA -2241 NATURE  \n",
            "1  ML.DECK 150 ALVEOLAR CHROMATIC WENGUE-2204 NATURE  \n",
            "2   ML.DECK 150 ALVEOLAR CHROMATIC GRIS -2214 NATURE  \n",
            "3     ML.PERFIL TERMINACION 180X10 GRIS-2214  NATURE  \n",
            "4     ML.PERFIL TERMINACION 180X10 GRIS-2214  NATURE  \n"
          ]
        }
      ],
      "source": [
        "import os\n",
        "\n",
        "# Cambiar el directorio de trabajo\n",
        "os.chdir(r\"c:\\Users\\Alicia\\MODELO_MACHINE_LEARNING\")\n",
        "\n",
        "# Leer el archivo directamente\n",
        "df_input = pd.read_excel(\"ventas_actualizado.xlsx\")\n",
        "\n",
        "# Verificar el DataFrame\n",
        "print(df_input.head())\n",
        "\n",
        "df_input = pd.read_excel(\"ventas_actualizado.xlsx\")\n"
      ]
    },
    {
      "cell_type": "markdown",
      "metadata": {},
      "source": [
        "HE RESUMIDO DEMASIADO LOS DATOS, NO VAN A PREDECIR BIEN POR LO QUE VOY A CREAR UN PRODUCTO MAS\n"
      ]
    },
    {
      "cell_type": "code",
      "execution_count": 8,
      "metadata": {
        "collapsed": true,
        "id": "2C6FwmfrxrZJ"
      },
      "outputs": [],
      "source": [
        "# para tener mas filas en la agrupacion:\n",
        "def categorize(value):\n",
        "    if value < 3.5:\n",
        "        return 'Producto 1'\n",
        "    elif 3.5 <= value < 7.5:\n",
        "        return 'Producto 2'\n",
        "    elif 7.5 <= value < 11:\n",
        "        return 'Producto 3'\n",
        "    elif 11 <= value < 12.9:\n",
        "        return 'Producto 4'\n",
        "    elif 12.9 <= value < 15.5:\n",
        "        return 'Producto 5'\n",
        "    else:\n",
        "        return 'Producto 6'\n",
        "\n",
        "df_input['product_id'] = df_input['Precio'].apply(categorize)"
      ]
    },
    {
      "cell_type": "code",
      "execution_count": 9,
      "metadata": {},
      "outputs": [
        {
          "data": {
            "text/plain": [
              "Index(['Fecha', 'año', 'trimestre', 'Mes', 'Zona Geográfica', 'País',\n",
              "       'Unidades', 'Precio', 'Categorias Precio', 'Total Ventas',\n",
              "       'Descripción', 'product_id'],\n",
              "      dtype='object')"
            ]
          },
          "execution_count": 9,
          "metadata": {},
          "output_type": "execute_result"
        }
      ],
      "source": [
        "df_input.columns"
      ]
    },
    {
      "cell_type": "code",
      "execution_count": 10,
      "metadata": {},
      "outputs": [
        {
          "name": "stdout",
          "output_type": "stream",
          "text": [
            "product_id\n",
            "Producto 1    5159243.17\n",
            "Producto 2    1023655.38\n",
            "Producto 3     965997.13\n",
            "Producto 4    1040269.81\n",
            "Producto 5     740944.63\n",
            "Producto 6     357157.97\n",
            "Name: Unidades, dtype: float64\n"
          ]
        },
        {
          "data": {
            "text/plain": [
              "<Axes: xlabel='product_id'>"
            ]
          },
          "execution_count": 10,
          "metadata": {},
          "output_type": "execute_result"
        },
        {
          "data": {
            "image/png": "[encoded data removed]",
            "text/plain": [
              "<Figure size 640x480 with 1 Axes>"
            ]
          },
          "metadata": {},
          "output_type": "display_data"
        }
      ],
      "source": [
        "ventas_por_producto = df_input.groupby('product_id')['Unidades'].sum()\n",
        "print(ventas_por_producto)\n",
        "ventas_por_producto.plot(kind='bar')\n"
      ]
    },
    {
      "cell_type": "markdown",
      "metadata": {},
      "source": [
        "Posible sobreajuste al Producto 1:\n",
        "\n",
        "Dado que domina los datos, el modelo podría estar \"aprendiendo\" principalmente a predecir las ventas de este producto, ignorando patrones de los otros productos.\n",
        "Necesidad de ajustar la estrategia:\n",
        "\n",
        "Si el objetivo es un modelo generalizado para todos los productos, deberíamos equilibrar las clases o segmentar el análisis."
      ]
    },
    {
      "cell_type": "code",
      "execution_count": 11,
      "metadata": {},
      "outputs": [
        {
          "name": "stdout",
          "output_type": "stream",
          "text": [
            "Zona Geográfica  product_id\n",
            "AMÉRICA          Producto 1     389070.80\n",
            "                 Producto 2      79991.37\n",
            "                 Producto 3      77255.08\n",
            "                 Producto 4     153687.97\n",
            "                 Producto 5      87676.54\n",
            "                 Producto 6      30371.26\n",
            "ESPAÑA           Producto 1    3708878.97\n",
            "                 Producto 2     576145.53\n",
            "                 Producto 3     731558.18\n",
            "                 Producto 4     685751.55\n",
            "                 Producto 5     538481.19\n",
            "                 Producto 6     298964.33\n",
            "EUROPA           Producto 1     858510.90\n",
            "                 Producto 2     365129.23\n",
            "                 Producto 3     157183.87\n",
            "                 Producto 4     199775.29\n",
            "                 Producto 5     114720.40\n",
            "                 Producto 6      27150.38\n",
            "RESTO DEL MUNDO  Producto 1     202782.50\n",
            "                 Producto 2       2389.25\n",
            "                 Producto 4       1055.00\n",
            "                 Producto 5         66.50\n",
            "                 Producto 6        672.00\n",
            "Name: Unidades, dtype: float64\n"
          ]
        }
      ],
      "source": [
        "ventas_por_region_producto = df_input.groupby(['Zona Geográfica', 'product_id'])['Unidades'].sum()\n",
        "print(ventas_por_region_producto)\n"
      ]
    },
    {
      "cell_type": "markdown",
      "metadata": {},
      "source": [
        "Producto 1 domina en todas las regiones:\n",
        "\n",
        "En todas las zonas geográficas, el Producto 1 es el más vendido por un amplio margen.\n",
        "Esto explica su correlación elevada y su impacto en el modelo.\n",
        "Distribución desigual de productos por región:\n",
        "\n",
        "En América, las ventas están más distribuidas entre varios productos.\n",
        "En España, el Producto 1 representa una enorme proporción de las ventas.\n",
        "En Europa, aunque el Producto 1 sigue dominando, los productos 2, 3, y 4 tienen una presencia significativa.\n",
        "En Resto del Mundo, las ventas son mínimas para casi todos los productos excepto el Producto 1.\n",
        "Productos con ventas marginales:\n",
        "\n",
        "Algunos productos tienen ventas extremadamente bajas, especialmente en regiones como \"Resto del Mundo\"."
      ]
    },
    {
      "cell_type": "code",
      "execution_count": 12,
      "metadata": {
        "id": "GK6JsxI0Mz7Y"
      },
      "outputs": [],
      "source": [
        "# seleccionar columnas relevantes:\n",
        "df = df_input[['año', 'Mes', 'Zona Geográfica', 'Unidades', 'product_id']]"
      ]
    },
    {
      "cell_type": "code",
      "execution_count": 13,
      "metadata": {
        "colab": {
          "base_uri": "https://localhost:8080/"
        },
        "collapsed": true,
        "id": "pzLVB8P9NIAi",
        "outputId": "2137fff0-614d-420e-9824-b4b19c881d9d"
      },
      "outputs": [
        {
          "name": "stderr",
          "output_type": "stream",
          "text": [
            "C:\\Users\\Alicia\\AppData\\Local\\Temp\\ipykernel_22096\\2528278919.py:2: SettingWithCopyWarning: \n",
            "A value is trying to be set on a copy of a slice from a DataFrame\n",
            "\n",
            "See the caveats in the documentation: https://pandas.pydata.org/pandas-docs/stable/user_guide/indexing.html#returning-a-view-versus-a-copy\n",
            "  df.rename(columns={'año': 'year'}, inplace=True)\n",
            "C:\\Users\\Alicia\\AppData\\Local\\Temp\\ipykernel_22096\\2528278919.py:3: SettingWithCopyWarning: \n",
            "A value is trying to be set on a copy of a slice from a DataFrame\n",
            "\n",
            "See the caveats in the documentation: https://pandas.pydata.org/pandas-docs/stable/user_guide/indexing.html#returning-a-view-versus-a-copy\n",
            "  df.rename(columns={'Mes': 'month'}, inplace=True)\n",
            "C:\\Users\\Alicia\\AppData\\Local\\Temp\\ipykernel_22096\\2528278919.py:4: SettingWithCopyWarning: \n",
            "A value is trying to be set on a copy of a slice from a DataFrame\n",
            "\n",
            "See the caveats in the documentation: https://pandas.pydata.org/pandas-docs/stable/user_guide/indexing.html#returning-a-view-versus-a-copy\n",
            "  df.rename(columns={'Zona Geográfica': 'region'}, inplace=True)\n",
            "C:\\Users\\Alicia\\AppData\\Local\\Temp\\ipykernel_22096\\2528278919.py:5: SettingWithCopyWarning: \n",
            "A value is trying to be set on a copy of a slice from a DataFrame\n",
            "\n",
            "See the caveats in the documentation: https://pandas.pydata.org/pandas-docs/stable/user_guide/indexing.html#returning-a-view-versus-a-copy\n",
            "  df.rename(columns={'Unidades': 'sold_units'}, inplace=True)\n"
          ]
        }
      ],
      "source": [
        "# renombrar columnas :\n",
        "df.rename(columns={'año': 'year'}, inplace=True)\n",
        "df.rename(columns={'Mes': 'month'}, inplace=True)\n",
        "df.rename(columns={'Zona Geográfica': 'region'}, inplace=True)\n",
        "df.rename(columns={'Unidades': 'sold_units'}, inplace=True)"
      ]
    },
    {
      "cell_type": "code",
      "execution_count": 14,
      "metadata": {
        "id": "HlTuq_h6zzmJ"
      },
      "outputs": [],
      "source": [
        "# agregar informacion:\n",
        "df = df.groupby(['year', 'month', 'region', 'product_id'])['sold_units'].sum().reset_index()"
      ]
    },
    {
      "cell_type": "code",
      "execution_count": 15,
      "metadata": {
        "colab": {
          "base_uri": "https://localhost:8080/",
          "height": 423
        },
        "id": "JDBHr3BNyEK9",
        "outputId": "3e45f87a-dafc-4b53-b65e-1edb22f53279"
      },
      "outputs": [
        {
          "data": {
            "text/html": [
              "<div>\n",
              "<style scoped>\n",
              "    .dataframe tbody tr th:only-of-type {\n",
              "        vertical-align: middle;\n",
              "    }\n",
              "\n",
              "    .dataframe tbody tr th {\n",
              "        vertical-align: top;\n",
              "    }\n",
              "\n",
              "    .dataframe thead th {\n",
              "        text-align: right;\n",
              "    }\n",
              "</style>\n",
              "<table border=\"1\" class=\"dataframe\">\n",
              "  <thead>\n",
              "    <tr style=\"text-align: right;\">\n",
              "      <th></th>\n",
              "      <th>year</th>\n",
              "      <th>month</th>\n",
              "      <th>region</th>\n",
              "      <th>product_id</th>\n",
              "      <th>sold_units</th>\n",
              "    </tr>\n",
              "  </thead>\n",
              "  <tbody>\n",
              "    <tr>\n",
              "      <th>0</th>\n",
              "      <td>21</td>\n",
              "      <td>1</td>\n",
              "      <td>AMÉRICA</td>\n",
              "      <td>Producto 2</td>\n",
              "      <td>1148.00</td>\n",
              "    </tr>\n",
              "    <tr>\n",
              "      <th>1</th>\n",
              "      <td>21</td>\n",
              "      <td>1</td>\n",
              "      <td>AMÉRICA</td>\n",
              "      <td>Producto 4</td>\n",
              "      <td>12.00</td>\n",
              "    </tr>\n",
              "    <tr>\n",
              "      <th>2</th>\n",
              "      <td>21</td>\n",
              "      <td>1</td>\n",
              "      <td>ESPAÑA</td>\n",
              "      <td>Producto 1</td>\n",
              "      <td>117284.80</td>\n",
              "    </tr>\n",
              "    <tr>\n",
              "      <th>3</th>\n",
              "      <td>21</td>\n",
              "      <td>1</td>\n",
              "      <td>ESPAÑA</td>\n",
              "      <td>Producto 2</td>\n",
              "      <td>9308.55</td>\n",
              "    </tr>\n",
              "    <tr>\n",
              "      <th>4</th>\n",
              "      <td>21</td>\n",
              "      <td>1</td>\n",
              "      <td>ESPAÑA</td>\n",
              "      <td>Producto 3</td>\n",
              "      <td>477.70</td>\n",
              "    </tr>\n",
              "    <tr>\n",
              "      <th>...</th>\n",
              "      <td>...</td>\n",
              "      <td>...</td>\n",
              "      <td>...</td>\n",
              "      <td>...</td>\n",
              "      <td>...</td>\n",
              "    </tr>\n",
              "    <tr>\n",
              "      <th>742</th>\n",
              "      <td>24</td>\n",
              "      <td>12</td>\n",
              "      <td>EUROPA</td>\n",
              "      <td>Producto 1</td>\n",
              "      <td>5720.00</td>\n",
              "    </tr>\n",
              "    <tr>\n",
              "      <th>743</th>\n",
              "      <td>24</td>\n",
              "      <td>12</td>\n",
              "      <td>EUROPA</td>\n",
              "      <td>Producto 2</td>\n",
              "      <td>645.00</td>\n",
              "    </tr>\n",
              "    <tr>\n",
              "      <th>744</th>\n",
              "      <td>24</td>\n",
              "      <td>12</td>\n",
              "      <td>EUROPA</td>\n",
              "      <td>Producto 3</td>\n",
              "      <td>348.00</td>\n",
              "    </tr>\n",
              "    <tr>\n",
              "      <th>745</th>\n",
              "      <td>24</td>\n",
              "      <td>12</td>\n",
              "      <td>EUROPA</td>\n",
              "      <td>Producto 4</td>\n",
              "      <td>6897.00</td>\n",
              "    </tr>\n",
              "    <tr>\n",
              "      <th>746</th>\n",
              "      <td>24</td>\n",
              "      <td>12</td>\n",
              "      <td>EUROPA</td>\n",
              "      <td>Producto 6</td>\n",
              "      <td>374.00</td>\n",
              "    </tr>\n",
              "  </tbody>\n",
              "</table>\n",
              "<p>747 rows × 5 columns</p>\n",
              "</div>"
            ],
            "text/plain": [
              "     year  month   region  product_id  sold_units\n",
              "0      21      1  AMÉRICA  Producto 2     1148.00\n",
              "1      21      1  AMÉRICA  Producto 4       12.00\n",
              "2      21      1   ESPAÑA  Producto 1   117284.80\n",
              "3      21      1   ESPAÑA  Producto 2     9308.55\n",
              "4      21      1   ESPAÑA  Producto 3      477.70\n",
              "..    ...    ...      ...         ...         ...\n",
              "742    24     12   EUROPA  Producto 1     5720.00\n",
              "743    24     12   EUROPA  Producto 2      645.00\n",
              "744    24     12   EUROPA  Producto 3      348.00\n",
              "745    24     12   EUROPA  Producto 4     6897.00\n",
              "746    24     12   EUROPA  Producto 6      374.00\n",
              "\n",
              "[747 rows x 5 columns]"
            ]
          },
          "execution_count": 15,
          "metadata": {},
          "output_type": "execute_result"
        }
      ],
      "source": [
        "df"
      ]
    },
    {
      "cell_type": "markdown",
      "metadata": {},
      "source": [
        "### ONE-HOT ENCODING"
      ]
    },
    {
      "cell_type": "code",
      "execution_count": 16,
      "metadata": {
        "id": "v21Ux7edBbvO"
      },
      "outputs": [],
      "source": [
        "# ----------- preparar datos de entrada:\n",
        "# Las variables categoricas necesitan one-hot encoding:\n",
        "columnas_cat = ['product_id', 'region']\n",
        "encoder = OneHotEncoder(sparse_output=False)\n",
        "columnas_codificadas = encoder.fit_transform(df[columnas_cat])\n",
        "df_codificado = pd.DataFrame(columnas_codificadas, columns=encoder.get_feature_names_out(columnas_cat))\n",
        "\n",
        "# unir a columnas numericas:\n",
        "columnas_num = ['year', 'month']\n",
        "X = pd.concat([df[columnas_num], df_codificado], axis=1)"
      ]
    },
    {
      "cell_type": "code",
      "execution_count": 17,
      "metadata": {
        "colab": {
          "base_uri": "https://localhost:8080/",
          "height": 461
        },
        "id": "EDlLfJ_hOuIm",
        "outputId": "4e368044-f318-4606-aa2b-fceaa0827921"
      },
      "outputs": [
        {
          "data": {
            "text/html": [
              "<div>\n",
              "<style scoped>\n",
              "    .dataframe tbody tr th:only-of-type {\n",
              "        vertical-align: middle;\n",
              "    }\n",
              "\n",
              "    .dataframe tbody tr th {\n",
              "        vertical-align: top;\n",
              "    }\n",
              "\n",
              "    .dataframe thead th {\n",
              "        text-align: right;\n",
              "    }\n",
              "</style>\n",
              "<table border=\"1\" class=\"dataframe\">\n",
              "  <thead>\n",
              "    <tr style=\"text-align: right;\">\n",
              "      <th></th>\n",
              "      <th>year</th>\n",
              "      <th>month</th>\n",
              "      <th>product_id_Producto 1</th>\n",
              "      <th>product_id_Producto 2</th>\n",
              "      <th>product_id_Producto 3</th>\n",
              "      <th>product_id_Producto 4</th>\n",
              "      <th>product_id_Producto 5</th>\n",
              "      <th>product_id_Producto 6</th>\n",
              "      <th>region_AMÉRICA</th>\n",
              "      <th>region_ESPAÑA</th>\n",
              "      <th>region_EUROPA</th>\n",
              "      <th>region_RESTO DEL MUNDO</th>\n",
              "    </tr>\n",
              "  </thead>\n",
              "  <tbody>\n",
              "    <tr>\n",
              "      <th>0</th>\n",
              "      <td>21</td>\n",
              "      <td>1</td>\n",
              "      <td>0.0</td>\n",
              "      <td>1.0</td>\n",
              "      <td>0.0</td>\n",
              "      <td>0.0</td>\n",
              "      <td>0.0</td>\n",
              "      <td>0.0</td>\n",
              "      <td>1.0</td>\n",
              "      <td>0.0</td>\n",
              "      <td>0.0</td>\n",
              "      <td>0.0</td>\n",
              "    </tr>\n",
              "    <tr>\n",
              "      <th>1</th>\n",
              "      <td>21</td>\n",
              "      <td>1</td>\n",
              "      <td>0.0</td>\n",
              "      <td>0.0</td>\n",
              "      <td>0.0</td>\n",
              "      <td>1.0</td>\n",
              "      <td>0.0</td>\n",
              "      <td>0.0</td>\n",
              "      <td>1.0</td>\n",
              "      <td>0.0</td>\n",
              "      <td>0.0</td>\n",
              "      <td>0.0</td>\n",
              "    </tr>\n",
              "    <tr>\n",
              "      <th>2</th>\n",
              "      <td>21</td>\n",
              "      <td>1</td>\n",
              "      <td>1.0</td>\n",
              "      <td>0.0</td>\n",
              "      <td>0.0</td>\n",
              "      <td>0.0</td>\n",
              "      <td>0.0</td>\n",
              "      <td>0.0</td>\n",
              "      <td>0.0</td>\n",
              "      <td>1.0</td>\n",
              "      <td>0.0</td>\n",
              "      <td>0.0</td>\n",
              "    </tr>\n",
              "    <tr>\n",
              "      <th>3</th>\n",
              "      <td>21</td>\n",
              "      <td>1</td>\n",
              "      <td>0.0</td>\n",
              "      <td>1.0</td>\n",
              "      <td>0.0</td>\n",
              "      <td>0.0</td>\n",
              "      <td>0.0</td>\n",
              "      <td>0.0</td>\n",
              "      <td>0.0</td>\n",
              "      <td>1.0</td>\n",
              "      <td>0.0</td>\n",
              "      <td>0.0</td>\n",
              "    </tr>\n",
              "    <tr>\n",
              "      <th>4</th>\n",
              "      <td>21</td>\n",
              "      <td>1</td>\n",
              "      <td>0.0</td>\n",
              "      <td>0.0</td>\n",
              "      <td>1.0</td>\n",
              "      <td>0.0</td>\n",
              "      <td>0.0</td>\n",
              "      <td>0.0</td>\n",
              "      <td>0.0</td>\n",
              "      <td>1.0</td>\n",
              "      <td>0.0</td>\n",
              "      <td>0.0</td>\n",
              "    </tr>\n",
              "    <tr>\n",
              "      <th>...</th>\n",
              "      <td>...</td>\n",
              "      <td>...</td>\n",
              "      <td>...</td>\n",
              "      <td>...</td>\n",
              "      <td>...</td>\n",
              "      <td>...</td>\n",
              "      <td>...</td>\n",
              "      <td>...</td>\n",
              "      <td>...</td>\n",
              "      <td>...</td>\n",
              "      <td>...</td>\n",
              "      <td>...</td>\n",
              "    </tr>\n",
              "    <tr>\n",
              "      <th>742</th>\n",
              "      <td>24</td>\n",
              "      <td>12</td>\n",
              "      <td>1.0</td>\n",
              "      <td>0.0</td>\n",
              "      <td>0.0</td>\n",
              "      <td>0.0</td>\n",
              "      <td>0.0</td>\n",
              "      <td>0.0</td>\n",
              "      <td>0.0</td>\n",
              "      <td>0.0</td>\n",
              "      <td>1.0</td>\n",
              "      <td>0.0</td>\n",
              "    </tr>\n",
              "    <tr>\n",
              "      <th>743</th>\n",
              "      <td>24</td>\n",
              "      <td>12</td>\n",
              "      <td>0.0</td>\n",
              "      <td>1.0</td>\n",
              "      <td>0.0</td>\n",
              "      <td>0.0</td>\n",
              "      <td>0.0</td>\n",
              "      <td>0.0</td>\n",
              "      <td>0.0</td>\n",
              "      <td>0.0</td>\n",
              "      <td>1.0</td>\n",
              "      <td>0.0</td>\n",
              "    </tr>\n",
              "    <tr>\n",
              "      <th>744</th>\n",
              "      <td>24</td>\n",
              "      <td>12</td>\n",
              "      <td>0.0</td>\n",
              "      <td>0.0</td>\n",
              "      <td>1.0</td>\n",
              "      <td>0.0</td>\n",
              "      <td>0.0</td>\n",
              "      <td>0.0</td>\n",
              "      <td>0.0</td>\n",
              "      <td>0.0</td>\n",
              "      <td>1.0</td>\n",
              "      <td>0.0</td>\n",
              "    </tr>\n",
              "    <tr>\n",
              "      <th>745</th>\n",
              "      <td>24</td>\n",
              "      <td>12</td>\n",
              "      <td>0.0</td>\n",
              "      <td>0.0</td>\n",
              "      <td>0.0</td>\n",
              "      <td>1.0</td>\n",
              "      <td>0.0</td>\n",
              "      <td>0.0</td>\n",
              "      <td>0.0</td>\n",
              "      <td>0.0</td>\n",
              "      <td>1.0</td>\n",
              "      <td>0.0</td>\n",
              "    </tr>\n",
              "    <tr>\n",
              "      <th>746</th>\n",
              "      <td>24</td>\n",
              "      <td>12</td>\n",
              "      <td>0.0</td>\n",
              "      <td>0.0</td>\n",
              "      <td>0.0</td>\n",
              "      <td>0.0</td>\n",
              "      <td>0.0</td>\n",
              "      <td>1.0</td>\n",
              "      <td>0.0</td>\n",
              "      <td>0.0</td>\n",
              "      <td>1.0</td>\n",
              "      <td>0.0</td>\n",
              "    </tr>\n",
              "  </tbody>\n",
              "</table>\n",
              "<p>747 rows × 12 columns</p>\n",
              "</div>"
            ],
            "text/plain": [
              "     year  month  product_id_Producto 1  product_id_Producto 2  \\\n",
              "0      21      1                    0.0                    1.0   \n",
              "1      21      1                    0.0                    0.0   \n",
              "2      21      1                    1.0                    0.0   \n",
              "3      21      1                    0.0                    1.0   \n",
              "4      21      1                    0.0                    0.0   \n",
              "..    ...    ...                    ...                    ...   \n",
              "742    24     12                    1.0                    0.0   \n",
              "743    24     12                    0.0                    1.0   \n",
              "744    24     12                    0.0                    0.0   \n",
              "745    24     12                    0.0                    0.0   \n",
              "746    24     12                    0.0                    0.0   \n",
              "\n",
              "     product_id_Producto 3  product_id_Producto 4  product_id_Producto 5  \\\n",
              "0                      0.0                    0.0                    0.0   \n",
              "1                      0.0                    1.0                    0.0   \n",
              "2                      0.0                    0.0                    0.0   \n",
              "3                      0.0                    0.0                    0.0   \n",
              "4                      1.0                    0.0                    0.0   \n",
              "..                     ...                    ...                    ...   \n",
              "742                    0.0                    0.0                    0.0   \n",
              "743                    0.0                    0.0                    0.0   \n",
              "744                    1.0                    0.0                    0.0   \n",
              "745                    0.0                    1.0                    0.0   \n",
              "746                    0.0                    0.0                    0.0   \n",
              "\n",
              "     product_id_Producto 6  region_AMÉRICA  region_ESPAÑA  region_EUROPA  \\\n",
              "0                      0.0             1.0            0.0            0.0   \n",
              "1                      0.0             1.0            0.0            0.0   \n",
              "2                      0.0             0.0            1.0            0.0   \n",
              "3                      0.0             0.0            1.0            0.0   \n",
              "4                      0.0             0.0            1.0            0.0   \n",
              "..                     ...             ...            ...            ...   \n",
              "742                    0.0             0.0            0.0            1.0   \n",
              "743                    0.0             0.0            0.0            1.0   \n",
              "744                    0.0             0.0            0.0            1.0   \n",
              "745                    0.0             0.0            0.0            1.0   \n",
              "746                    1.0             0.0            0.0            1.0   \n",
              "\n",
              "     region_RESTO DEL MUNDO  \n",
              "0                       0.0  \n",
              "1                       0.0  \n",
              "2                       0.0  \n",
              "3                       0.0  \n",
              "4                       0.0  \n",
              "..                      ...  \n",
              "742                     0.0  \n",
              "743                     0.0  \n",
              "744                     0.0  \n",
              "745                     0.0  \n",
              "746                     0.0  \n",
              "\n",
              "[747 rows x 12 columns]"
            ]
          },
          "execution_count": 17,
          "metadata": {},
          "output_type": "execute_result"
        }
      ],
      "source": [
        "X \n",
        "#ahora tengo 6 columnas de product_id, para cada producto\n",
        "# 4 columnas para region, una para cada region "
      ]
    },
    {
      "cell_type": "code",
      "execution_count": 18,
      "metadata": {
        "id": "OPxIH6WUBeng"
      },
      "outputs": [],
      "source": [
        "# ---------- preparar target, variable objetivo :\n",
        "y = df['sold_units']"
      ]
    },
    {
      "cell_type": "code",
      "execution_count": 19,
      "metadata": {
        "colab": {
          "base_uri": "https://localhost:8080/",
          "height": 458
        },
        "id": "p2Bdzd4TOy0X",
        "outputId": "126542d7-96b5-473e-b71e-a8f49261cd97"
      },
      "outputs": [
        {
          "data": {
            "text/plain": [
              "0        1148.00\n",
              "1          12.00\n",
              "2      117284.80\n",
              "3        9308.55\n",
              "4         477.70\n",
              "         ...    \n",
              "742      5720.00\n",
              "743       645.00\n",
              "744       348.00\n",
              "745      6897.00\n",
              "746       374.00\n",
              "Name: sold_units, Length: 747, dtype: float64"
            ]
          },
          "execution_count": 19,
          "metadata": {},
          "output_type": "execute_result"
        }
      ],
      "source": [
        "y"
      ]
    },
    {
      "cell_type": "markdown",
      "metadata": {},
      "source": [
        "## ENTRENAMOS MODELO"
      ]
    },
    {
      "cell_type": "code",
      "execution_count": 20,
      "metadata": {
        "id": "5Alp7YyCCuzY"
      },
      "outputs": [],
      "source": [
        "# Dividir datos de entrada entre datos de entrenamiento y datos de test:\n",
        "#xtrain-> 70% datos entrenamiento, 30% evaluar el modelo\n",
        "#random_state-> 42, partes siempre del mismo punto de partida con un valor arbitrario, cada vez el dataset se te va a particionar de distinta forma \n",
        "\n",
        "X_train, X_test, y_train, y_test = train_test_split(X, y, test_size=0.3, random_state=42)"
      ]
    },
    {
      "cell_type": "code",
      "execution_count": 21,
      "metadata": {},
      "outputs": [
        {
          "name": "stdout",
          "output_type": "stream",
          "text": [
            "RMSE medio de la validacion cruzada:\n",
            "RegresionLineal: RMSE = 25719.84\n",
            "RandomForest: RMSE = 25871.71\n",
            "XGBoost: RMSE = 30066.08\n",
            "\n",
            "MAE medio de la validacion cruzada:\n",
            "RegresionLineal: MAE = 12743.89\n",
            "RandomForest: MAE = 10269.95\n",
            "XGBoost: MAE = 12017.19\n",
            "\n",
            "R^2 medio de la validacion cruzada:\n",
            "RegresionLineal: R^2 = 0.28\n",
            "RandomForest: R^2 = 0.08\n",
            "XGBoost: R^2 = -0.11\n",
            "\n",
            "Mejor modelo según RMSE: RegresionLineal\n"
          ]
        }
      ],
      "source": [
        "# Seleccion del mejor modelo - para ahorrar tiempo ajustando hiperparametros a modelos que se ajustan peor al dataset:\n",
        "\n",
        "modelos = {\n",
        "    'RegresionLineal': LinearRegression(),\n",
        "    'RandomForest': RandomForestRegressor(random_state=42),\n",
        "    'XGBoost': XGBRegressor(random_state=42)  # Añadido XGBoost para evaluación\n",
        "}\n",
        "\n",
        "#vemos q modelo tiene el mejor fit con los datos de entrada \n",
        "resultados = {}\n",
        "resultados_mae = {}\n",
        "resultados_r2 = {}\n",
        "\n",
        "for nombre_modelo, modelo in modelos.items():\n",
        "    # 1. Validacion cruzada del modelo (elegir numero de particiones, yo puse 5 por defecto):\n",
        "    error_rmse = cross_val_score(modelo, X_train, y_train, cv=5, scoring='neg_mean_squared_error')\n",
        "    error_mae = cross_val_score(modelo, X_train, y_train, cv=5, scoring='neg_mean_absolute_error')\n",
        "    score_r2 = cross_val_score(modelo, X_train, y_train, cv=5, scoring='r2')\n",
        "\n",
        "    # 2. Calcular RMSE y MAE:\n",
        "    rmse = np.sqrt(-error_rmse)  # RMSE\n",
        "    mae = -error_mae  # MAE\n",
        "\n",
        "    # 3. Guardar las métricas:\n",
        "    resultados[nombre_modelo] = rmse.mean()\n",
        "    resultados_mae[nombre_modelo] = mae.mean()\n",
        "    resultados_r2[nombre_modelo] = score_r2.mean()\n",
        "\n",
        "# Imprimir resultados de validación cruzada\n",
        "print(\"RMSE medio de la validacion cruzada:\")\n",
        "for nombre_modelo, error in resultados.items():\n",
        "    print(f\"{nombre_modelo}: RMSE = {error:.2f}\")\n",
        "\n",
        "print(\"\\nMAE medio de la validacion cruzada:\")\n",
        "for nombre_modelo, error in resultados_mae.items():\n",
        "    print(f\"{nombre_modelo}: MAE = {error:.2f}\")\n",
        "\n",
        "print(\"\\nR^2 medio de la validacion cruzada:\")\n",
        "for nombre_modelo, score in resultados_r2.items():\n",
        "    print(f\"{nombre_modelo}: R^2 = {score:.2f}\")\n",
        "\n",
        "# Seleccionar modelo con mejor RMSE:\n",
        "mejor_modelo = min(resultados, key=resultados.get)\n",
        "print(f\"\\nMejor modelo según RMSE: {mejor_modelo}\")\n",
        "modelo_elegido = modelos[mejor_modelo]\n"
      ]
    },
    {
      "cell_type": "markdown",
      "metadata": {},
      "source": [
        "R2 relativamente bajo en todos los modelos indica que las variables no explican bien la variabilidad del objetivo.\n",
        "Los errores altos (RMSE y MAE) sugieren la posibilidad de ruido en los datos o falta de relaciones fuertes entre características y el objetivo."
      ]
    },
    {
      "cell_type": "code",
      "execution_count": 22,
      "metadata": {},
      "outputs": [
        {
          "name": "stdout",
          "output_type": "stream",
          "text": [
            "Mejor modelo Ridge: {'regressor__alpha': np.float64(46.41588833612773)}\n",
            "Mejor modelo Random Forest: {'n_estimators': 200, 'min_samples_split': 5, 'min_samples_leaf': 4, 'max_depth': 20}\n",
            "RMSE del mejor modelo Ridge: 20548.03\n",
            "RMSE del mejor modelo Random Forest: 13485.12\n",
            "El modelo final seleccionado es Random Forest.\n"
          ]
        }
      ],
      "source": [
        "# Tanto Random Forest como Regresión Lineal tienen un error muy grande y próximo. Esto sugiere que es necesario ajustar los hiperparámetros de ambos modelos por separado para determinar cuál se ajusta mejor.\n",
        "\n",
        "# --- Ajuste de hiperparámetros para un modelo lineal (Ridge) ---\n",
        "from sklearn.pipeline import Pipeline\n",
        "from sklearn.preprocessing import StandardScaler\n",
        "from sklearn.linear_model import Ridge\n",
        "from sklearn.model_selection import RandomizedSearchCV\n",
        "\n",
        "# Crear un pipeline con estandarización y modelo Ridge\n",
        "pipeline_ridge = Pipeline([\n",
        "    ('scaler', StandardScaler()),\n",
        "    ('regressor', Ridge())\n",
        "])\n",
        "\n",
        "# Buscar hiperparámetros para Ridge\n",
        "params_ridge = {\n",
        "    'regressor__alpha': np.logspace(-3, 3, 10)\n",
        "}\n",
        "\n",
        "random_search_ridge = RandomizedSearchCV(\n",
        "    estimator=pipeline_ridge,\n",
        "    param_distributions=params_ridge,\n",
        "    n_iter=10,\n",
        "    scoring='neg_mean_squared_error',\n",
        "    cv=5,\n",
        "    random_state=42,\n",
        "    n_jobs=-1\n",
        ")\n",
        "\n",
        "random_search_ridge.fit(X_train, y_train)\n",
        "mejor_modelo_ridge = random_search_ridge.best_estimator_\n",
        "print(\"Mejor modelo Ridge:\", random_search_ridge.best_params_)\n",
        "\n",
        "# --- Ajuste de hiperparámetros para Random Forest ---\n",
        "from sklearn.ensemble import RandomForestRegressor\n",
        "\n",
        "params_rf = {\n",
        "    'n_estimators': [50, 100, 200],\n",
        "    'max_depth': [None, 10, 20, 30],\n",
        "    'min_samples_split': [2, 5, 10],\n",
        "    'min_samples_leaf': [1, 2, 4]\n",
        "}\n",
        "\n",
        "random_search_rf = RandomizedSearchCV(\n",
        "    estimator=RandomForestRegressor(random_state=42),\n",
        "    param_distributions=params_rf,\n",
        "    n_iter=10,\n",
        "    scoring='neg_mean_squared_error',\n",
        "    cv=5,\n",
        "    random_state=42,\n",
        "    n_jobs=-1\n",
        ")\n",
        "\n",
        "random_search_rf.fit(X_train, y_train)\n",
        "mejor_modelo_rf = random_search_rf.best_estimator_\n",
        "print(\"Mejor modelo Random Forest:\", random_search_rf.best_params_)\n",
        "\n",
        "# --- Comparación final entre los mejores modelos ---\n",
        "from sklearn.metrics import mean_squared_error\n",
        "\n",
        "# Evaluar el mejor modelo Ridge\n",
        "y_pred_ridge = mejor_modelo_ridge.predict(X_test)\n",
        "rmse_ridge = np.sqrt(mean_squared_error(y_test, y_pred_ridge))\n",
        "print(f\"RMSE del mejor modelo Ridge: {rmse_ridge:.2f}\")\n",
        "\n",
        "# Evaluar el mejor modelo Random Forest\n",
        "y_pred_rf = mejor_modelo_rf.predict(X_test)\n",
        "rmse_rf = np.sqrt(mean_squared_error(y_test, y_pred_rf))\n",
        "print(f\"RMSE del mejor modelo Random Forest: {rmse_rf:.2f}\")\n",
        "\n",
        "# Seleccionar el mejor modelo según RMSE\n",
        "if rmse_ridge < rmse_rf:\n",
        "    mejor_modelo_final = mejor_modelo_ridge\n",
        "    print(\"El modelo final seleccionado es Ridge.\")\n",
        "else:\n",
        "    mejor_modelo_final = mejor_modelo_rf\n",
        "    print(\"El modelo final seleccionado es Random Forest.\")\n"
      ]
    },
    {
      "cell_type": "code",
      "execution_count": 23,
      "metadata": {},
      "outputs": [
        {
          "name": "stdout",
          "output_type": "stream",
          "text": [
            "\n",
            "RMSE promedio del modelo final (validación cruzada): 26516.28\n",
            "R^2 promedio del modelo final (validación cruzada): -0.20\n"
          ]
        }
      ],
      "source": [
        "# --- Evaluación final con validación cruzada ---\n",
        "from sklearn.model_selection import cross_val_score\n",
        "from sklearn.metrics import make_scorer\n",
        "\n",
        "# Definir métricas\n",
        "scoring = {\n",
        "    'RMSE': make_scorer(lambda y_true, y_pred: np.sqrt(mean_squared_error(y_true, y_pred)), greater_is_better=False),\n",
        "    'R^2': 'r2'\n",
        "}\n",
        "\n",
        "# Validación cruzada con el modelo final\n",
        "resultados_finales = cross_val_score(\n",
        "    mejor_modelo_rf, X, y, cv=5, scoring='neg_mean_squared_error'\n",
        ")\n",
        "\n",
        "# Calcular RMSE promedio\n",
        "rmse_final = np.sqrt(-resultados_finales.mean())\n",
        "print(f\"\\nRMSE promedio del modelo final (validación cruzada): {rmse_final:.2f}\")\n",
        "\n",
        "# Validación cruzada para R^2\n",
        "resultados_r2 = cross_val_score(mejor_modelo_rf, X, y, cv=5, scoring='r2')\n",
        "r2_final = resultados_r2.mean()\n",
        "print(f\"R^2 promedio del modelo final (validación cruzada): {r2_final:.2f}\")\n"
      ]
    },
    {
      "cell_type": "code",
      "execution_count": 24,
      "metadata": {},
      "outputs": [
        {
          "name": "stdout",
          "output_type": "stream",
          "text": [
            "year                      0.096982\n",
            "month                    -0.046037\n",
            "product_id_Producto 1     0.462266\n",
            "product_id_Producto 2    -0.064851\n",
            "product_id_Producto 3    -0.074243\n",
            "product_id_Producto 4    -0.066696\n",
            "product_id_Producto 5    -0.096267\n",
            "product_id_Producto 6    -0.143441\n",
            "region_AMÉRICA           -0.143394\n",
            "region_ESPAÑA             0.273287\n",
            "region_EUROPA            -0.145962\n",
            "region_RESTO DEL MUNDO   -0.014647\n",
            "dtype: float64\n"
          ]
        }
      ],
      "source": [
        "correlaciones = X.corrwith(y)\n",
        "print(correlaciones)"
      ]
    },
    {
      "cell_type": "markdown",
      "metadata": {},
      "source": [
        "Dado el desequilibrio en las ventas de los productos (el Producto 1 domina) y las correlaciones débiles en la mayoría de las variables (excepto product_id_Producto 1 y region_ESPAÑA), los resultados actuales sugieren que:\n",
        "Un modelo único no está capturando bien las diferencias regionales ni la distribución desigual de los productos. \n",
        "Un R2 de -0.20 con un RMSE alto indica que el modelo no explica bien la variabilidad en las ventas.\n",
        "La mejor opción sería segmentar el problema:\n",
        "Entrenar modelos separados para cada región. Esto permitiría capturar mejor los patrones locales y reducir el impacto del dominio del Producto 1, ya que cada región tiene una distribución de productos diferente."
      ]
    },
    {
      "cell_type": "markdown",
      "metadata": {},
      "source": [
        "\n",
        "La mejor opción sería segmentar el problema:\n",
        "Entrenar modelos separados para cada región. Esto permitiría capturar mejor los patrones locales y reducir el impacto del dominio del Producto 1, ya que cada región tiene una distribución de productos diferente."
      ]
    },
    {
      "cell_type": "code",
      "execution_count": 25,
      "metadata": {},
      "outputs": [
        {
          "data": {
            "text/plain": [
              "Index(['year', 'month', 'region', 'product_id', 'sold_units'], dtype='object')"
            ]
          },
          "execution_count": 25,
          "metadata": {},
          "output_type": "execute_result"
        }
      ],
      "source": [
        "df.columns"
      ]
    },
    {
      "cell_type": "code",
      "execution_count": 26,
      "metadata": {},
      "outputs": [
        {
          "data": {
            "text/html": [
              "<div>\n",
              "<style scoped>\n",
              "    .dataframe tbody tr th:only-of-type {\n",
              "        vertical-align: middle;\n",
              "    }\n",
              "\n",
              "    .dataframe tbody tr th {\n",
              "        vertical-align: top;\n",
              "    }\n",
              "\n",
              "    .dataframe thead th {\n",
              "        text-align: right;\n",
              "    }\n",
              "</style>\n",
              "<table border=\"1\" class=\"dataframe\">\n",
              "  <thead>\n",
              "    <tr style=\"text-align: right;\">\n",
              "      <th></th>\n",
              "      <th>year</th>\n",
              "      <th>month</th>\n",
              "      <th>region</th>\n",
              "      <th>product_id</th>\n",
              "      <th>sold_units</th>\n",
              "    </tr>\n",
              "  </thead>\n",
              "  <tbody>\n",
              "    <tr>\n",
              "      <th>0</th>\n",
              "      <td>21</td>\n",
              "      <td>1</td>\n",
              "      <td>AMÉRICA</td>\n",
              "      <td>Producto 2</td>\n",
              "      <td>1148.00</td>\n",
              "    </tr>\n",
              "    <tr>\n",
              "      <th>1</th>\n",
              "      <td>21</td>\n",
              "      <td>1</td>\n",
              "      <td>AMÉRICA</td>\n",
              "      <td>Producto 4</td>\n",
              "      <td>12.00</td>\n",
              "    </tr>\n",
              "    <tr>\n",
              "      <th>2</th>\n",
              "      <td>21</td>\n",
              "      <td>1</td>\n",
              "      <td>ESPAÑA</td>\n",
              "      <td>Producto 1</td>\n",
              "      <td>117284.80</td>\n",
              "    </tr>\n",
              "    <tr>\n",
              "      <th>3</th>\n",
              "      <td>21</td>\n",
              "      <td>1</td>\n",
              "      <td>ESPAÑA</td>\n",
              "      <td>Producto 2</td>\n",
              "      <td>9308.55</td>\n",
              "    </tr>\n",
              "    <tr>\n",
              "      <th>4</th>\n",
              "      <td>21</td>\n",
              "      <td>1</td>\n",
              "      <td>ESPAÑA</td>\n",
              "      <td>Producto 3</td>\n",
              "      <td>477.70</td>\n",
              "    </tr>\n",
              "  </tbody>\n",
              "</table>\n",
              "</div>"
            ],
            "text/plain": [
              "   year  month   region  product_id  sold_units\n",
              "0    21      1  AMÉRICA  Producto 2     1148.00\n",
              "1    21      1  AMÉRICA  Producto 4       12.00\n",
              "2    21      1   ESPAÑA  Producto 1   117284.80\n",
              "3    21      1   ESPAÑA  Producto 2     9308.55\n",
              "4    21      1   ESPAÑA  Producto 3      477.70"
            ]
          },
          "execution_count": 26,
          "metadata": {},
          "output_type": "execute_result"
        }
      ],
      "source": [
        "df.head()"
      ]
    },
    {
      "cell_type": "code",
      "execution_count": 27,
      "metadata": {},
      "outputs": [
        {
          "name": "stdout",
          "output_type": "stream",
          "text": [
            "\n",
            "--- Región: region_AMÉRICA ---\n",
            "Distribución de productos:\n",
            "product_id_Producto 1    21.0\n",
            "product_id_Producto 2    29.0\n",
            "product_id_Producto 3    33.0\n",
            "product_id_Producto 4    31.0\n",
            "product_id_Producto 5    31.0\n",
            "product_id_Producto 6    30.0\n",
            "dtype: float64\n",
            "\n",
            "--- Región: region_ESPAÑA ---\n",
            "Distribución de productos:\n",
            "product_id_Producto 1    47.0\n",
            "product_id_Producto 2    48.0\n",
            "product_id_Producto 3    48.0\n",
            "product_id_Producto 4    48.0\n",
            "product_id_Producto 5    48.0\n",
            "product_id_Producto 6    48.0\n",
            "dtype: float64\n",
            "\n",
            "--- Región: region_EUROPA ---\n",
            "Distribución de productos:\n",
            "product_id_Producto 1    36.0\n",
            "product_id_Producto 2    46.0\n",
            "product_id_Producto 3    47.0\n",
            "product_id_Producto 4    47.0\n",
            "product_id_Producto 5    43.0\n",
            "product_id_Producto 6    45.0\n",
            "dtype: float64\n",
            "\n",
            "--- Región: region_RESTO DEL MUNDO ---\n",
            "Distribución de productos:\n",
            "product_id_Producto 1    11.0\n",
            "product_id_Producto 2     3.0\n",
            "product_id_Producto 3     0.0\n",
            "product_id_Producto 4     3.0\n",
            "product_id_Producto 5     2.0\n",
            "product_id_Producto 6     2.0\n",
            "dtype: float64\n"
          ]
        }
      ],
      "source": [
        "for region in ['region_AMÉRICA', 'region_ESPAÑA', 'region_EUROPA', 'region_RESTO DEL MUNDO']:\n",
        "    print(f\"\\n--- Región: {region} ---\")\n",
        "    indices_region = X[region] == 1\n",
        "    X_region = X[indices_region]\n",
        "    print(\"Distribución de productos:\")\n",
        "    productos = X_region[['product_id_Producto 1', 'product_id_Producto 2', 'product_id_Producto 3', \n",
        "                          'product_id_Producto 4', 'product_id_Producto 5', 'product_id_Producto 6']].sum()\n",
        "    print(productos)\n"
      ]
    },
    {
      "cell_type": "code",
      "execution_count": 28,
      "metadata": {},
      "outputs": [
        {
          "name": "stdout",
          "output_type": "stream",
          "text": [
            "Número de observaciones por región:\n",
            "region_AMÉRICA            175\n",
            "region_ESPAÑA             287\n",
            "region_EUROPA             264\n",
            "region_RESTO DEL MUNDO     21\n",
            "Name: sold_units, dtype: int64\n"
          ]
        }
      ],
      "source": [
        "observaciones_por_region = y.groupby(X[['region_AMÉRICA', 'region_ESPAÑA', 'region_EUROPA', 'region_RESTO DEL MUNDO']].idxmax(axis=1)).size()\n",
        "print(\"Número de observaciones por región:\")\n",
        "print(observaciones_por_region)\n"
      ]
    },
    {
      "cell_type": "markdown",
      "metadata": {},
      "source": [
        "### Segmentamos por región y entrenamos modelos para cada región"
      ]
    },
    {
      "cell_type": "code",
      "execution_count": 29,
      "metadata": {},
      "outputs": [],
      "source": [
        "from sklearn.metrics import r2_score\n"
      ]
    },
    {
      "cell_type": "code",
      "execution_count": 30,
      "metadata": {},
      "outputs": [
        {
          "name": "stdout",
          "output_type": "stream",
          "text": [
            "\n",
            "--- Región: region_AMÉRICA ---\n",
            "Regresión Lineal - RMSE: 9626.80, R^2: 0.17\n",
            "Random Forest - RMSE: 12140.33, R^2: -0.33\n",
            "XGBoost - RMSE: 16248.97, R^2: -1.38\n",
            "Mejor modelo para region_AMÉRICA: Regresión Lineal\n",
            "\n",
            "--- Región: region_ESPAÑA ---\n",
            "Regresión Lineal - RMSE: 26013.35, R^2: 0.39\n",
            "Random Forest - RMSE: 29772.11, R^2: 0.20\n",
            "XGBoost - RMSE: 35284.01, R^2: -0.12\n",
            "Mejor modelo para region_ESPAÑA: Regresión Lineal\n",
            "\n",
            "--- Región: region_EUROPA ---\n",
            "Regresión Lineal - RMSE: 22668.10, R^2: 0.17\n",
            "Random Forest - RMSE: 19795.56, R^2: 0.37\n",
            "XGBoost - RMSE: 21651.48, R^2: 0.24\n",
            "Mejor modelo para region_EUROPA: Random Forest\n",
            "\n",
            "--- Región: region_RESTO DEL MUNDO ---\n",
            "Regresión Lineal - RMSE: 25950.26, R^2: -0.23\n",
            "Random Forest - RMSE: 24195.96, R^2: -0.07\n",
            "XGBoost - RMSE: 23495.94, R^2: -0.01\n",
            "Mejor modelo para region_RESTO DEL MUNDO: XGBoost\n"
          ]
        }
      ],
      "source": [
        "#No necesitamos hacer el one-hot encoding de nuevo, porque ya tenemos las columnas dummies en x, \n",
        "#lo único que hacemos es usar las columnas dummies de las regiones para filtrar los datos, entrenar modelos por separado, y eliminar estas columnas al pasar los datos al modelo, ya que se vuelven redundantes dentro de cada región.\n",
        "\n",
        "# Modelos a evaluar\n",
        "modelos = {\n",
        "    'Regresión Lineal': LinearRegression(),\n",
        "    'Random Forest': RandomForestRegressor(random_state=42),\n",
        "    'XGBoost': XGBRegressor(random_state=42)\n",
        "}\n",
        "\n",
        "# Resultados finales\n",
        "resultados_por_region = {}\n",
        "regiones = ['region_AMÉRICA', 'region_ESPAÑA', 'region_EUROPA', 'region_RESTO DEL MUNDO']\n",
        "\n",
        "# Iterar sobre cada región\n",
        "for region in regiones:\n",
        "    print(f\"\\n--- Región: {region} ---\")\n",
        "    \n",
        "    \n",
        "    indices_region = X[region] == 1  # Seleccionar las filas donde la región es 1\n",
        "    X_region = X[indices_region].drop(columns=regiones)  # Eliminar columnas de región en \\( X \\)\n",
        "    y_region = y[indices_region]  # Variable objetivo\n",
        "    \n",
        "    # Dividir en conjuntos de entrenamiento y prueba\n",
        "    X_train, X_test, y_train, y_test = train_test_split(X_region, y_region, test_size=0.3, random_state=42)\n",
        "    \n",
        "    # Evaluar múltiples modelos\n",
        "    resultados_region = {}\n",
        "    for nombre_modelo, modelo in modelos.items():\n",
        "        # Entrenar el modelo\n",
        "        modelo.fit(X_train, y_train)\n",
        "        \n",
        "        # Predecir y calcular métricas\n",
        "        y_pred = modelo.predict(X_test)\n",
        "        rmse = np.sqrt(mean_squared_error(y_test, y_pred))\n",
        "        r2 = r2_score(y_test, y_pred)\n",
        "        print(f\"{nombre_modelo} - RMSE: {rmse:.2f}, R^2: {r2:.2f}\")\n",
        "        \n",
        "        # Guardar resultados del modelo\n",
        "        resultados_region[nombre_modelo] = {'RMSE': rmse, 'R^2': r2, 'modelo': modelo}\n",
        "    \n",
        "    # Seleccionar el mejor modelo para la región según RMSE\n",
        "    mejor_modelo = min(resultados_region, key=lambda x: resultados_region[x]['RMSE'])\n",
        "    print(f\"Mejor modelo para {region}: {mejor_modelo}\")\n",
        "    \n",
        "    # Guardar el mejor modelo para la región\n",
        "    resultados_por_region[region] = {\n",
        "        'mejor_modelo': mejor_modelo,\n",
        "        'resultados': resultados_region[mejor_modelo]\n",
        "    }\n"
      ]
    },
    {
      "cell_type": "markdown",
      "metadata": {},
      "source": [
        "LA REGION RESTO DEL MUNDO NO LA VOY A ESTUDIAR PORQUE FALTAN DATOS PARA Q PUEDA PREDECIR BIEN\n",
        "\n",
        "(No comparte patrones de venta con ninguna región para q se pueda combinar) \n"
      ]
    },
    {
      "cell_type": "code",
      "execution_count": 31,
      "metadata": {},
      "outputs": [
        {
          "name": "stdout",
          "output_type": "stream",
          "text": [
            "Número de observaciones después de excluir RESTO DEL MUNDO: 726\n"
          ]
        }
      ],
      "source": [
        "# Filtrar datos para excluir RESTO DEL MUNDO\n",
        "X_filtered = X[X['region_RESTO DEL MUNDO'] == 0].drop(columns=['region_RESTO DEL MUNDO'])\n",
        "y_filtered = y[X['region_RESTO DEL MUNDO'] == 0]\n",
        "\n",
        "print(f\"Número de observaciones después de excluir RESTO DEL MUNDO: {len(X_filtered)}\")\n",
        "\n"
      ]
    },
    {
      "cell_type": "code",
      "execution_count": 32,
      "metadata": {},
      "outputs": [
        {
          "name": "stdout",
          "output_type": "stream",
          "text": [
            "\n",
            "--- Región: region_AMÉRICA ---\n",
            "Regresión Lineal - RMSE: 9626.80, R^2: 0.17\n",
            "Random Forest - RMSE: 12140.33, R^2: -0.33\n",
            "XGBoost - RMSE: 16248.97, R^2: -1.38\n",
            "Mejor modelo para region_AMÉRICA: Regresión Lineal\n",
            "\n",
            "--- Región: region_ESPAÑA ---\n",
            "Regresión Lineal - RMSE: 26013.35, R^2: 0.39\n",
            "Random Forest - RMSE: 29772.11, R^2: 0.20\n",
            "XGBoost - RMSE: 35284.01, R^2: -0.12\n",
            "Mejor modelo para region_ESPAÑA: Regresión Lineal\n",
            "\n",
            "--- Región: region_EUROPA ---\n",
            "Regresión Lineal - RMSE: 22668.10, R^2: 0.17\n",
            "Random Forest - RMSE: 19795.56, R^2: 0.37\n",
            "XGBoost - RMSE: 21651.48, R^2: 0.24\n",
            "Mejor modelo para region_EUROPA: Random Forest\n",
            "\n",
            "Resultados por región:\n",
            "region_AMÉRICA: Mejor modelo: Regresión Lineal, RMSE: 9626.80, R^2: 0.17\n",
            "region_ESPAÑA: Mejor modelo: Regresión Lineal, RMSE: 26013.35, R^2: 0.39\n",
            "region_EUROPA: Mejor modelo: Random Forest, RMSE: 19795.56, R^2: 0.37\n"
          ]
        }
      ],
      "source": [
        "# Actualizar las regiones a analizar\n",
        "regiones = ['region_AMÉRICA', 'region_ESPAÑA', 'region_EUROPA']\n",
        "\n",
        "# Modelos a evaluar\n",
        "modelos = {\n",
        "    'Regresión Lineal': LinearRegression(),\n",
        "    'Random Forest': RandomForestRegressor(random_state=42),\n",
        "    'XGBoost': XGBRegressor(random_state=42)\n",
        "}\n",
        "\n",
        "# Resultados finales\n",
        "resultados_por_region = {}\n",
        "\n",
        "# Iterar sobre cada región\n",
        "for region in regiones:\n",
        "    print(f\"\\n--- Región: {region} ---\")\n",
        "    \n",
        "    # Filtrar los datos para la región específica\n",
        "    indices_region = X_filtered[region] == 1\n",
        "    X_region = X_filtered[indices_region].drop(columns=regiones)  # Eliminar columnas de región\n",
        "    y_region = y_filtered[indices_region]  # Variable objetivo\n",
        "    \n",
        "    # Dividir en conjuntos de entrenamiento y prueba\n",
        "    X_train, X_test, y_train, y_test = train_test_split(X_region, y_region, test_size=0.3, random_state=42)\n",
        "    \n",
        "    # Evaluar múltiples modelos\n",
        "    resultados_region = {}\n",
        "    for nombre_modelo, modelo in modelos.items():\n",
        "        # Entrenar el modelo\n",
        "        modelo.fit(X_train, y_train)\n",
        "        \n",
        "        # Predecir y calcular métricas\n",
        "        y_pred = modelo.predict(X_test)\n",
        "        rmse = np.sqrt(mean_squared_error(y_test, y_pred))\n",
        "        r2 = r2_score(y_test, y_pred)\n",
        "        print(f\"{nombre_modelo} - RMSE: {rmse:.2f}, R^2: {r2:.2f}\")\n",
        "        \n",
        "        # Guardar resultados del modelo\n",
        "        resultados_region[nombre_modelo] = {'RMSE': rmse, 'R^2': r2, 'modelo': modelo}\n",
        "    \n",
        "    # Seleccionar el mejor modelo para la región según RMSE\n",
        "    mejor_modelo = min(resultados_region, key=lambda x: resultados_region[x]['RMSE'])\n",
        "    print(f\"Mejor modelo para {region}: {mejor_modelo}\")\n",
        "    \n",
        "    # Guardar el mejor modelo para la región\n",
        "    resultados_por_region[region] = {\n",
        "        'mejor_modelo': mejor_modelo,\n",
        "        'resultados': resultados_region[mejor_modelo]\n",
        "    }\n",
        "\n",
        "# Mostrar los resultados finales\n",
        "print(\"\\nResultados por región:\")\n",
        "for region, resultados in resultados_por_region.items():\n",
        "    print(f\"{region}: Mejor modelo: {resultados['mejor_modelo']}, RMSE: {resultados['resultados']['RMSE']:.2f}, R^2: {resultados['resultados']['R^2']:.2f}\")\n"
      ]
    },
    {
      "cell_type": "code",
      "execution_count": 33,
      "metadata": {},
      "outputs": [
        {
          "name": "stdout",
          "output_type": "stream",
          "text": [
            "product_id_Producto 1    5159243.17\n",
            "product_id_Producto 2    1023655.38\n",
            "product_id_Producto 3     965997.13\n",
            "product_id_Producto 4    1040269.81\n",
            "product_id_Producto 5     740944.63\n",
            "product_id_Producto 6     357157.97\n",
            "Name: sold_units, dtype: float64\n"
          ]
        }
      ],
      "source": [
        "ventas_por_categoria = y.groupby(X.loc[:, ['product_id_Producto 1',\n",
        "                                           'product_id_Producto 2',\n",
        "                                           'product_id_Producto 3',\n",
        "                                           'product_id_Producto 4',\n",
        "                                           'product_id_Producto 5',\n",
        "                                           'product_id_Producto 6']].idxmax(axis=1)).sum()\n",
        "print(ventas_por_categoria)\n"
      ]
    },
    {
      "cell_type": "code",
      "execution_count": 34,
      "metadata": {},
      "outputs": [
        {
          "name": "stdout",
          "output_type": "stream",
          "text": [
            "\n",
            "Importancia de variables para region_EUROPA:\n",
            "year: 0.2547\n",
            "month: 0.5465\n",
            "product_id_Producto 1: 0.1341\n",
            "product_id_Producto 2: 0.0415\n",
            "product_id_Producto 3: 0.0040\n",
            "product_id_Producto 4: 0.0043\n",
            "product_id_Producto 5: 0.0018\n",
            "product_id_Producto 6: 0.0131\n"
          ]
        }
      ],
      "source": [
        "for region in resultados_por_region:\n",
        "    mejor_modelo = resultados_por_region[region]['resultados']['modelo']\n",
        "    if hasattr(mejor_modelo, 'feature_importances_'):  # Solo para Random Forest y XGBoost\n",
        "        print(f\"\\nImportancia de variables para {region}:\")\n",
        "        importancias = mejor_modelo.feature_importances_\n",
        "        for nombre, importancia in zip(X.columns, importancias):\n",
        "            print(f\"{nombre}: {importancia:.4f}\")\n"
      ]
    },
    {
      "cell_type": "markdown",
      "metadata": {},
      "source": [
        "LOS MODELOS SIGUEN DANDO R2 MUY BAJAS, POR LO QUE VOY A AJUSTAR LAS CATEGORIAS"
      ]
    },
    {
      "cell_type": "markdown",
      "metadata": {},
      "source": [
        "primero voy a ajustar los rangos de precios actuales en mas categorias"
      ]
    },
    {
      "cell_type": "code",
      "execution_count": 35,
      "metadata": {},
      "outputs": [
        {
          "data": {
            "text/plain": [
              "Index(['year', 'month', 'region', 'product_id', 'sold_units'], dtype='object')"
            ]
          },
          "execution_count": 35,
          "metadata": {},
          "output_type": "execute_result"
        }
      ],
      "source": [
        "df.columns"
      ]
    },
    {
      "cell_type": "code",
      "execution_count": 36,
      "metadata": {},
      "outputs": [],
      "source": [
        "#VOY A CREAR 10 EN VEZ DE 6\n",
        "\n",
        "\n",
        "# Crear nuevas categorías basadas en ventas totales (cuantiles)\n",
        "df['new_product_id'] = pd.qcut(df['sold_units'], q=10, labels=[f'Producto {i+1}' for i in range(10)], duplicates='drop')\n",
        "\n",
        "# Convertir a variables dummy para incluir en el modelo\n",
        "df = pd.get_dummies(df, columns=['new_product_id'], drop_first=True)\n"
      ]
    },
    {
      "cell_type": "code",
      "execution_count": 37,
      "metadata": {},
      "outputs": [
        {
          "name": "stdout",
          "output_type": "stream",
          "text": [
            "\n",
            "--- Región: AMÉRICA ---\n",
            "Random Forest Optimizado - RMSE: 6219.33, R^2: 0.65\n",
            "\n",
            "--- Región: ESPAÑA ---\n",
            "Random Forest Optimizado - RMSE: 25941.27, R^2: 0.40\n",
            "\n",
            "--- Región: EUROPA ---\n",
            "Random Forest Optimizado - RMSE: 15070.50, R^2: 0.63\n",
            "\n",
            "--- Región: RESTO DEL MUNDO ---\n",
            "Random Forest Optimizado - RMSE: 21326.68, R^2: 0.17\n",
            "\n",
            "Resultados finales por región:\n",
            "AMÉRICA: Mejor modelo: Random Forest, RMSE: 6219.33, R^2: 0.65\n",
            "ESPAÑA: Mejor modelo: Random Forest, RMSE: 25941.27, R^2: 0.40\n",
            "EUROPA: Mejor modelo: Random Forest, RMSE: 15070.50, R^2: 0.63\n",
            "RESTO DEL MUNDO: Mejor modelo: Random Forest, RMSE: 21326.68, R^2: 0.17\n"
          ]
        }
      ],
      "source": [
        "from sklearn.model_selection import train_test_split, RandomizedSearchCV\n",
        "from sklearn.ensemble import RandomForestRegressor\n",
        "from xgboost import XGBRegressor\n",
        "from sklearn.metrics import mean_squared_error, r2_score\n",
        "import numpy as np\n",
        "\n",
        "# Dividir por región\n",
        "regiones = df['region'].unique()\n",
        "resultados_por_region = {}\n",
        "\n",
        "for region in regiones:\n",
        "    print(f\"\\n--- Región: {region} ---\")\n",
        "    datos_region = df[df['region'] == region]\n",
        "    X = datos_region.drop(columns=['region', 'sold_units', 'product_id'])\n",
        "    y = datos_region['sold_units']\n",
        "    \n",
        "    # Dividir en entrenamiento y prueba\n",
        "    X_train, X_test, y_train, y_test = train_test_split(X, y, test_size=0.3, random_state=42)\n",
        "    \n",
        "    # Modelo base: Random Forest con optimización\n",
        "    param_grid_rf = {\n",
        "        'n_estimators': [50, 100, 200],\n",
        "        'max_depth': [10, 20, 30, None],\n",
        "        'min_samples_split': [2, 5, 10],\n",
        "        'min_samples_leaf': [1, 2, 4]\n",
        "    }\n",
        "    grid_search_rf = RandomizedSearchCV(\n",
        "        RandomForestRegressor(random_state=42),\n",
        "        param_distributions=param_grid_rf,\n",
        "        n_iter=10,\n",
        "        scoring='neg_mean_squared_error',\n",
        "        cv=3,\n",
        "        random_state=42,\n",
        "        n_jobs=-1\n",
        "    )\n",
        "    grid_search_rf.fit(X_train, y_train)\n",
        "    best_rf = grid_search_rf.best_estimator_\n",
        "\n",
        "    # Evaluar el modelo optimizado\n",
        "    y_pred_rf = best_rf.predict(X_test)\n",
        "    rmse_rf = np.sqrt(mean_squared_error(y_test, y_pred_rf))\n",
        "    r2_rf = r2_score(y_test, y_pred_rf)\n",
        "    print(f\"Random Forest Optimizado - RMSE: {rmse_rf:.2f}, R^2: {r2_rf:.2f}\")\n",
        "\n",
        "    # Guardar resultados\n",
        "    resultados_por_region[region] = {\n",
        "        'mejor_modelo': 'Random Forest',\n",
        "        'RMSE': rmse_rf,\n",
        "        'R^2': r2_rf\n",
        "    }\n",
        "\n",
        "# Mostrar resultados finales por región\n",
        "print(\"\\nResultados finales por región:\")\n",
        "for region, resultados in resultados_por_region.items():\n",
        "    print(f\"{region}: Mejor modelo: {resultados['mejor_modelo']}, RMSE: {resultados['RMSE']:.2f}, R^2: {resultados['R^2']:.2f}\")\n"
      ]
    },
    {
      "cell_type": "code",
      "execution_count": 38,
      "metadata": {},
      "outputs": [
        {
          "name": "stdout",
          "output_type": "stream",
          "text": [
            "Index(['year', 'month', 'region', 'product_id', 'sold_units',\n",
            "       'new_product_id_Producto 2', 'new_product_id_Producto 3',\n",
            "       'new_product_id_Producto 4', 'new_product_id_Producto 5',\n",
            "       'new_product_id_Producto 6', 'new_product_id_Producto 7',\n",
            "       'new_product_id_Producto 8', 'new_product_id_Producto 9',\n",
            "       'new_product_id_Producto 10'],\n",
            "      dtype='object')\n"
          ]
        }
      ],
      "source": [
        "print(df.columns)\n"
      ]
    },
    {
      "cell_type": "code",
      "execution_count": 39,
      "metadata": {},
      "outputs": [
        {
          "name": "stdout",
          "output_type": "stream",
          "text": [
            "Columnas duplicadas: Index([], dtype='object')\n"
          ]
        }
      ],
      "source": [
        "# Verificar columnas duplicadas\n",
        "duplicated_columns = df.columns[df.columns.duplicated()]\n",
        "print(f\"Columnas duplicadas: {duplicated_columns}\")\n",
        "\n",
        "# Eliminar columnas duplicadas\n",
        "df = df.loc[:, ~df.columns.duplicated()]\n"
      ]
    },
    {
      "cell_type": "code",
      "execution_count": 42,
      "metadata": {},
      "outputs": [
        {
          "name": "stdout",
          "output_type": "stream",
          "text": [
            "                      Variable  Importancia\n",
            "0                         year     0.327133\n",
            "10  new_product_id_Producto 10     0.322624\n",
            "1                        month     0.317249\n",
            "3    new_product_id_Producto 3     0.022156\n",
            "2    new_product_id_Producto 2     0.010837\n",
            "5    new_product_id_Producto 5     0.000000\n",
            "4    new_product_id_Producto 4     0.000000\n",
            "6    new_product_id_Producto 6     0.000000\n",
            "7    new_product_id_Producto 7     0.000000\n",
            "8    new_product_id_Producto 8     0.000000\n"
          ]
        }
      ],
      "source": [
        "# Obtener la importancia de las características\n",
        "importancias = best_rf.feature_importances_\n",
        "importancia_df = pd.DataFrame({\n",
        "    'Variable': X_train.columns,\n",
        "    'Importancia': importancias\n",
        "}).sort_values(by='Importancia', ascending=False)\n",
        "\n",
        "# Mostrar las 10 variables más importantes\n",
        "print(importancia_df.head(10))\n"
      ]
    },
    {
      "cell_type": "code",
      "execution_count": 46,
      "metadata": {},
      "outputs": [
        {
          "data": {
            "image/png": "[encoded data removed]",
            "text/plain": [
              "<Figure size 1000x600 with 1 Axes>"
            ]
          },
          "metadata": {},
          "output_type": "display_data"
        }
      ],
      "source": [
        "import matplotlib.pyplot as plt\n",
        "\n",
        "# Filtrar las variables con importancia mayor a 0\n",
        "importancia_relevante = importancia_df[importancia_df['Importancia'] > 0]\n",
        "\n",
        "# Crear gráfico de barras\n",
        "plt.figure(figsize=(10, 6))\n",
        "plt.barh(importancia_relevante['Variable'], importancia_relevante['Importancia'], color='#7A5F3D')  # Color inspirado en Tarimatec\n",
        "plt.xlabel('Importancia', fontsize=14)\n",
        "plt.ylabel('Variables', fontsize=14)\n",
        "plt.title('Importancia de las Variables', fontsize=16)\n",
        "plt.gca().invert_yaxis()\n",
        "plt.tight_layout()\n",
        "plt.show()\n"
      ]
    },
    {
      "cell_type": "code",
      "execution_count": 47,
      "metadata": {},
      "outputs": [
        {
          "name": "stdout",
          "output_type": "stream",
          "text": [
            "                      Variable  Importancia\n",
            "0                         year     0.327133\n",
            "10  new_product_id_Producto 10     0.322624\n",
            "1                        month     0.317249\n",
            "3    new_product_id_Producto 3     0.022156\n",
            "2    new_product_id_Producto 2     0.010837\n",
            "5    new_product_id_Producto 5     0.000000\n",
            "4    new_product_id_Producto 4     0.000000\n",
            "6    new_product_id_Producto 6     0.000000\n",
            "7    new_product_id_Producto 7     0.000000\n",
            "8    new_product_id_Producto 8     0.000000\n"
          ]
        }
      ],
      "source": [
        "# Obtener la importancia de las características\n",
        "importancias = best_rf.feature_importances_\n",
        "importancia_df = pd.DataFrame({\n",
        "    'Variable': X_train.columns,\n",
        "    'Importancia': importancias\n",
        "}).sort_values(by='Importancia', ascending=False)\n",
        "\n",
        "# Mostrar las 10 variables más importantes\n",
        "print(importancia_df.head(10))"
      ]
    },
    {
      "cell_type": "code",
      "execution_count": 49,
      "metadata": {},
      "outputs": [
        {
          "name": "stdout",
          "output_type": "stream",
          "text": [
            "\n",
            "--- Región: AMÉRICA ---\n",
            "Totales - Reales: 230042.37, Predichos: 276994.44\n",
            "Random Forest Optimizado - RMSE: 6219.33, R^2: 0.65\n",
            "\n",
            "--- Región: ESPAÑA ---\n",
            "Totales - Reales: 2106046.35, Predichos: 2403889.64\n",
            "Random Forest Optimizado - RMSE: 25941.27, R^2: 0.40\n",
            "\n",
            "--- Región: EUROPA ---\n",
            "Totales - Reales: 752463.27, Predichos: 803955.70\n",
            "Random Forest Optimizado - RMSE: 15070.50, R^2: 0.63\n",
            "\n",
            "--- Región: RESTO DEL MUNDO ---\n",
            "Totales - Reales: 109678.25, Predichos: 53579.33\n",
            "Random Forest Optimizado - RMSE: 21326.68, R^2: 0.17\n",
            "\n",
            "Totales finales por región:\n",
            "AMÉRICA: Totales Reales: 230042.37, Totales Predichos: 276994.44\n",
            "ESPAÑA: Totales Reales: 2106046.35, Totales Predichos: 2403889.64\n",
            "EUROPA: Totales Reales: 752463.27, Totales Predichos: 803955.70\n",
            "RESTO DEL MUNDO: Totales Reales: 109678.25, Totales Predichos: 53579.33\n"
          ]
        }
      ],
      "source": [
        "\n",
        "\n",
        "# Inicializar estructura para almacenar resultados\n",
        "resultados_por_region = {}\n",
        "\n",
        "# Iterar por región\n",
        "for region in df['region'].unique():\n",
        "    print(f\"\\n--- Región: {region} ---\")\n",
        "    datos_region = df[df['region'] == region]\n",
        "    X = datos_region.drop(columns=['region', 'sold_units', 'product_id'])\n",
        "    y = datos_region['sold_units']\n",
        "    \n",
        "    # Dividir en entrenamiento y prueba\n",
        "    X_train, X_test, y_train, y_test = train_test_split(X, y, test_size=0.3, random_state=42)\n",
        "    \n",
        "    # Modelo base: Random Forest con optimización\n",
        "    param_grid_rf = {\n",
        "        'n_estimators': [50, 100, 200],\n",
        "        'max_depth': [10, 20, 30, None],\n",
        "        'min_samples_split': [2, 5, 10],\n",
        "        'min_samples_leaf': [1, 2, 4]\n",
        "    }\n",
        "    grid_search_rf = RandomizedSearchCV(\n",
        "        RandomForestRegressor(random_state=42),\n",
        "        param_distributions=param_grid_rf,\n",
        "        n_iter=10,\n",
        "        scoring='neg_mean_squared_error',\n",
        "        cv=3,\n",
        "        random_state=42,\n",
        "        n_jobs=-1\n",
        "    )\n",
        "    grid_search_rf.fit(X_train, y_train)\n",
        "    best_rf = grid_search_rf.best_estimator_\n",
        "\n",
        "    # Realizar predicciones\n",
        "    y_pred_rf = best_rf.predict(X_test)\n",
        "\n",
        "    # Calcular métricas\n",
        "    rmse_rf = np.sqrt(mean_squared_error(y_test, y_pred_rf))\n",
        "    r2_rf = r2_score(y_test, y_pred_rf)\n",
        "\n",
        "    # Calcular totales reales y predichos\n",
        "    total_reales = y_test.sum()\n",
        "    total_predichos = y_pred_rf.sum()\n",
        "\n",
        "    # Imprimir resultados para la región\n",
        "    print(f\"Totales - Reales: {total_reales:.2f}, Predichos: {total_predichos:.2f}\")\n",
        "    print(f\"Random Forest Optimizado - RMSE: {rmse_rf:.2f}, R^2: {r2_rf:.2f}\")\n",
        "\n",
        "    # Guardar resultados\n",
        "    resultados_por_region[region] = {\n",
        "        'Total_Reales': total_reales,\n",
        "        'Total_Predichos': total_predichos,\n",
        "        'RMSE': rmse_rf,\n",
        "        'R^2': r2_rf\n",
        "    }\n",
        "\n",
        "# Mostrar totales finales por región\n",
        "print(\"\\nTotales finales por región:\")\n",
        "for region, resultados in resultados_por_region.items():\n",
        "    print(f\"{region}: Totales Reales: {resultados['Total_Reales']:.2f}, Totales Predichos: {resultados['Total_Predichos']:.2f}\")\n"
      ]
    },
    {
      "cell_type": "code",
      "execution_count": 54,
      "metadata": {},
      "outputs": [
        {
          "data": {
            "image/png": "[encoded data removed]",
            "text/plain": [
              "<Figure size 1000x600 with 1 Axes>"
            ]
          },
          "metadata": {},
          "output_type": "display_data"
        }
      ],
      "source": [
        "import matplotlib.pyplot as plt\n",
        "import pandas as pd\n",
        "\n",
        "# Datos de totales reales y predichos por región\n",
        "datos = {\n",
        "    'Región': ['AMÉRICA', 'ESPAÑA', 'EUROPA'],\n",
        "    'Ventas_Reales': [230042.37, 2106046.35, 752463.27],\n",
        "    'Ventas_Predichas': [276994.44, 2403889.64, 803955.70]\n",
        "}\n",
        "\n",
        "# Convertir los datos a un DataFrame\n",
        "df_resultados = pd.DataFrame(datos)\n",
        "\n",
        "# Crear el gráfico de barras\n",
        "plt.figure(figsize=(10, 6))\n",
        "x = range(len(df_resultados['Región']))  # Posiciones de las barras\n",
        "bar_width = 0.4  # Ancho de las barras\n",
        "\n",
        "# Barras de ventas reales\n",
        "plt.bar([pos - bar_width/2 for pos in x], \n",
        "        df_resultados['Ventas_Reales'], \n",
        "        width=bar_width, \n",
        "        label='Total Real', \n",
        "        color='#B7A99A')  # Color gris claro (estilo Tarimatec)\n",
        "\n",
        "# Barras de ventas predichas\n",
        "plt.bar([pos + bar_width/2 for pos in x], \n",
        "        df_resultados['Ventas_Predichas'], \n",
        "        width=bar_width, \n",
        "        label='Total Predicho', \n",
        "        color='#7A5F3D')  # Color marrón oscuro (estilo Tarimatec)\n",
        "\n",
        "# Personalizar el gráfico\n",
        "plt.title('Comparación entre Ventas Reales y Predichas por Región', fontsize=14)\n",
        "plt.xlabel('Región', fontsize=12)\n",
        "plt.ylabel('Unidades Vendidas', fontsize=12)\n",
        "plt.xticks(x, df_resultados['Región'], rotation=45)  # Etiquetas de las regiones\n",
        "plt.legend(fontsize=12, frameon=False)  # Sin marco en la leyenda\n",
        "\n",
        "# Quitar fondo y bordes adicionales\n",
        "plt.grid(False)\n",
        "plt.gca().set_facecolor('white')\n",
        "plt.gca().spines['top'].set_visible(False)\n",
        "plt.gca().spines['right'].set_visible(False)\n",
        "plt.gca().spines['left'].set_linewidth(0.5)\n",
        "plt.gca().spines['bottom'].set_linewidth(0.5)\n",
        "\n",
        "# Mostrar el gráfico\n",
        "plt.tight_layout()\n",
        "plt.show()\n"
      ]
    }
  ],
  "metadata": {
    "colab": {
      "provenance": []
    },
    "kernelspec": {
      "display_name": "data_analysis_env",
      "language": "python",
      "name": "python3"
    },
    "language_info": {
      "codemirror_mode": {
        "name": "ipython",
        "version": 3
      },
      "file_extension": ".py",
      "mimetype": "text/x-python",
      "name": "python",
      "nbconvert_exporter": "python",
      "pygments_lexer": "ipython3",
      "version": "3.10.15"
    }
  },
  "nbformat": 4,
  "nbformat_minor": 0
}
